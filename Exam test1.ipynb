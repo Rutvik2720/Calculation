{
 "cells": [
  {
   "cell_type": "code",
   "execution_count": 1,
   "id": "1a91778a",
   "metadata": {},
   "outputs": [],
   "source": [
    "import pandas as pd\n",
    "import seaborn as sns\n"
   ]
  },
  {
   "cell_type": "code",
   "execution_count": 2,
   "id": "482aed90",
   "metadata": {},
   "outputs": [],
   "source": [
    "df= pd.read_excel(\"MABJ-Customer-Sales.xlsx\",sheet_name=[\"Sales_data\",\"Product_data\",\"Date_data\"])"
   ]
  },
  {
   "cell_type": "code",
   "execution_count": 3,
   "id": "df0b6358",
   "metadata": {},
   "outputs": [],
   "source": [
    "Date_df=df.get('Date_data')"
   ]
  },
  {
   "cell_type": "code",
   "execution_count": 4,
   "id": "2b3dfcba",
   "metadata": {
    "collapsed": true
   },
   "outputs": [
    {
     "data": {
      "text/html": [
       "<div>\n",
       "<style scoped>\n",
       "    .dataframe tbody tr th:only-of-type {\n",
       "        vertical-align: middle;\n",
       "    }\n",
       "\n",
       "    .dataframe tbody tr th {\n",
       "        vertical-align: top;\n",
       "    }\n",
       "\n",
       "    .dataframe thead th {\n",
       "        text-align: right;\n",
       "    }\n",
       "</style>\n",
       "<table border=\"1\" class=\"dataframe\">\n",
       "  <thead>\n",
       "    <tr style=\"text-align: right;\">\n",
       "      <th></th>\n",
       "      <th>DateKey</th>\n",
       "      <th>Date</th>\n",
       "      <th>Fiscal Year</th>\n",
       "      <th>Fiscal Quarter</th>\n",
       "      <th>Month</th>\n",
       "      <th>Full Date</th>\n",
       "      <th>MonthKey</th>\n",
       "    </tr>\n",
       "  </thead>\n",
       "  <tbody>\n",
       "    <tr>\n",
       "      <th>0</th>\n",
       "      <td>20170701</td>\n",
       "      <td>42917</td>\n",
       "      <td>FY2018</td>\n",
       "      <td>FY2018 Q1</td>\n",
       "      <td>2017 Jul</td>\n",
       "      <td>2017 Jul, 01</td>\n",
       "      <td>201707</td>\n",
       "    </tr>\n",
       "    <tr>\n",
       "      <th>1</th>\n",
       "      <td>20170702</td>\n",
       "      <td>42918</td>\n",
       "      <td>FY2018</td>\n",
       "      <td>FY2018 Q1</td>\n",
       "      <td>2017 Jul</td>\n",
       "      <td>2017 Jul, 02</td>\n",
       "      <td>201707</td>\n",
       "    </tr>\n",
       "    <tr>\n",
       "      <th>2</th>\n",
       "      <td>20170703</td>\n",
       "      <td>42919</td>\n",
       "      <td>FY2018</td>\n",
       "      <td>FY2018 Q1</td>\n",
       "      <td>2017 Jul</td>\n",
       "      <td>2017 Jul, 03</td>\n",
       "      <td>201707</td>\n",
       "    </tr>\n",
       "    <tr>\n",
       "      <th>3</th>\n",
       "      <td>20170704</td>\n",
       "      <td>42920</td>\n",
       "      <td>FY2018</td>\n",
       "      <td>FY2018 Q1</td>\n",
       "      <td>2017 Jul</td>\n",
       "      <td>2017 Jul, 04</td>\n",
       "      <td>201707</td>\n",
       "    </tr>\n",
       "    <tr>\n",
       "      <th>4</th>\n",
       "      <td>20170705</td>\n",
       "      <td>42921</td>\n",
       "      <td>FY2018</td>\n",
       "      <td>FY2018 Q1</td>\n",
       "      <td>2017 Jul</td>\n",
       "      <td>2017 Jul, 05</td>\n",
       "      <td>201707</td>\n",
       "    </tr>\n",
       "  </tbody>\n",
       "</table>\n",
       "</div>"
      ],
      "text/plain": [
       "    DateKey   Date Fiscal Year Fiscal Quarter     Month     Full Date  \\\n",
       "0  20170701  42917      FY2018      FY2018 Q1  2017 Jul  2017 Jul, 01   \n",
       "1  20170702  42918      FY2018      FY2018 Q1  2017 Jul  2017 Jul, 02   \n",
       "2  20170703  42919      FY2018      FY2018 Q1  2017 Jul  2017 Jul, 03   \n",
       "3  20170704  42920      FY2018      FY2018 Q1  2017 Jul  2017 Jul, 04   \n",
       "4  20170705  42921      FY2018      FY2018 Q1  2017 Jul  2017 Jul, 05   \n",
       "\n",
       "   MonthKey  \n",
       "0    201707  \n",
       "1    201707  \n",
       "2    201707  \n",
       "3    201707  \n",
       "4    201707  "
      ]
     },
     "execution_count": 4,
     "metadata": {},
     "output_type": "execute_result"
    }
   ],
   "source": [
    "Date_df.head()"
   ]
  },
  {
   "cell_type": "code",
   "execution_count": 5,
   "id": "aaf5629b",
   "metadata": {},
   "outputs": [],
   "source": [
    "Sales_df = df.get('Sales_data')"
   ]
  },
  {
   "cell_type": "code",
   "execution_count": 6,
   "id": "193c68c6",
   "metadata": {},
   "outputs": [
    {
     "data": {
      "text/html": [
       "<div>\n",
       "<style scoped>\n",
       "    .dataframe tbody tr th:only-of-type {\n",
       "        vertical-align: middle;\n",
       "    }\n",
       "\n",
       "    .dataframe tbody tr th {\n",
       "        vertical-align: top;\n",
       "    }\n",
       "\n",
       "    .dataframe thead th {\n",
       "        text-align: right;\n",
       "    }\n",
       "</style>\n",
       "<table border=\"1\" class=\"dataframe\">\n",
       "  <thead>\n",
       "    <tr style=\"text-align: right;\">\n",
       "      <th></th>\n",
       "      <th>SalesOrderLineKey</th>\n",
       "      <th>ResellerKey</th>\n",
       "      <th>CustomerKey</th>\n",
       "      <th>ProductKey</th>\n",
       "      <th>OrderDateKey</th>\n",
       "      <th>DueDateKey</th>\n",
       "      <th>ShipDateKey</th>\n",
       "      <th>SalesTerritoryKey</th>\n",
       "      <th>Order Quantity</th>\n",
       "      <th>Unit Price</th>\n",
       "      <th>Product Cost</th>\n",
       "      <th>Gross Sales</th>\n",
       "    </tr>\n",
       "  </thead>\n",
       "  <tbody>\n",
       "    <tr>\n",
       "      <th>0</th>\n",
       "      <td>43659001</td>\n",
       "      <td>676</td>\n",
       "      <td>-1</td>\n",
       "      <td>349</td>\n",
       "      <td>20170702</td>\n",
       "      <td>20170712</td>\n",
       "      <td>20170709.0</td>\n",
       "      <td>5</td>\n",
       "      <td>1</td>\n",
       "      <td>2024.994</td>\n",
       "      <td>1898.0944</td>\n",
       "      <td>2024.994</td>\n",
       "    </tr>\n",
       "    <tr>\n",
       "      <th>1</th>\n",
       "      <td>43659002</td>\n",
       "      <td>676</td>\n",
       "      <td>-1</td>\n",
       "      <td>350</td>\n",
       "      <td>20170702</td>\n",
       "      <td>20170712</td>\n",
       "      <td>20170709.0</td>\n",
       "      <td>5</td>\n",
       "      <td>3</td>\n",
       "      <td>2024.994</td>\n",
       "      <td>1898.0944</td>\n",
       "      <td>6074.982</td>\n",
       "    </tr>\n",
       "    <tr>\n",
       "      <th>2</th>\n",
       "      <td>43659003</td>\n",
       "      <td>676</td>\n",
       "      <td>-1</td>\n",
       "      <td>351</td>\n",
       "      <td>20170702</td>\n",
       "      <td>20170712</td>\n",
       "      <td>20170709.0</td>\n",
       "      <td>5</td>\n",
       "      <td>1</td>\n",
       "      <td>2024.994</td>\n",
       "      <td>1898.0944</td>\n",
       "      <td>2024.994</td>\n",
       "    </tr>\n",
       "    <tr>\n",
       "      <th>3</th>\n",
       "      <td>43659004</td>\n",
       "      <td>676</td>\n",
       "      <td>-1</td>\n",
       "      <td>344</td>\n",
       "      <td>20170702</td>\n",
       "      <td>20170712</td>\n",
       "      <td>20170709.0</td>\n",
       "      <td>5</td>\n",
       "      <td>1</td>\n",
       "      <td>2039.994</td>\n",
       "      <td>1912.1544</td>\n",
       "      <td>2039.994</td>\n",
       "    </tr>\n",
       "    <tr>\n",
       "      <th>4</th>\n",
       "      <td>43659005</td>\n",
       "      <td>676</td>\n",
       "      <td>-1</td>\n",
       "      <td>345</td>\n",
       "      <td>20170702</td>\n",
       "      <td>20170712</td>\n",
       "      <td>20170709.0</td>\n",
       "      <td>5</td>\n",
       "      <td>1</td>\n",
       "      <td>2039.994</td>\n",
       "      <td>1912.1544</td>\n",
       "      <td>2039.994</td>\n",
       "    </tr>\n",
       "  </tbody>\n",
       "</table>\n",
       "</div>"
      ],
      "text/plain": [
       "   SalesOrderLineKey  ResellerKey  CustomerKey  ProductKey  OrderDateKey  \\\n",
       "0           43659001          676           -1         349      20170702   \n",
       "1           43659002          676           -1         350      20170702   \n",
       "2           43659003          676           -1         351      20170702   \n",
       "3           43659004          676           -1         344      20170702   \n",
       "4           43659005          676           -1         345      20170702   \n",
       "\n",
       "   DueDateKey  ShipDateKey  SalesTerritoryKey  Order Quantity  Unit Price  \\\n",
       "0    20170712   20170709.0                  5               1    2024.994   \n",
       "1    20170712   20170709.0                  5               3    2024.994   \n",
       "2    20170712   20170709.0                  5               1    2024.994   \n",
       "3    20170712   20170709.0                  5               1    2039.994   \n",
       "4    20170712   20170709.0                  5               1    2039.994   \n",
       "\n",
       "   Product Cost  Gross Sales   \n",
       "0     1898.0944      2024.994  \n",
       "1     1898.0944      6074.982  \n",
       "2     1898.0944      2024.994  \n",
       "3     1912.1544      2039.994  \n",
       "4     1912.1544      2039.994  "
      ]
     },
     "execution_count": 6,
     "metadata": {},
     "output_type": "execute_result"
    }
   ],
   "source": [
    "Sales_df.head()"
   ]
  },
  {
   "cell_type": "code",
   "execution_count": 16,
   "id": "c858e13c",
   "metadata": {},
   "outputs": [],
   "source": [
    "SD=pd.merge(Sales_df,Date_df,how='inner',left_on='OrderDateKey',right_on=\"DateKey\")"
   ]
  },
  {
   "cell_type": "code",
   "execution_count": 17,
   "id": "41a356d5",
   "metadata": {
    "collapsed": true
   },
   "outputs": [
    {
     "data": {
      "text/html": [
       "<div>\n",
       "<style scoped>\n",
       "    .dataframe tbody tr th:only-of-type {\n",
       "        vertical-align: middle;\n",
       "    }\n",
       "\n",
       "    .dataframe tbody tr th {\n",
       "        vertical-align: top;\n",
       "    }\n",
       "\n",
       "    .dataframe thead th {\n",
       "        text-align: right;\n",
       "    }\n",
       "</style>\n",
       "<table border=\"1\" class=\"dataframe\">\n",
       "  <thead>\n",
       "    <tr style=\"text-align: right;\">\n",
       "      <th></th>\n",
       "      <th>SalesOrderLineKey</th>\n",
       "      <th>ResellerKey</th>\n",
       "      <th>CustomerKey</th>\n",
       "      <th>ProductKey</th>\n",
       "      <th>OrderDateKey</th>\n",
       "      <th>DueDateKey</th>\n",
       "      <th>ShipDateKey</th>\n",
       "      <th>SalesTerritoryKey</th>\n",
       "      <th>Order Quantity</th>\n",
       "      <th>Unit Price</th>\n",
       "      <th>Product Cost</th>\n",
       "      <th>Gross Sales</th>\n",
       "      <th>DateKey</th>\n",
       "      <th>Date</th>\n",
       "      <th>Fiscal Year</th>\n",
       "      <th>Fiscal Quarter</th>\n",
       "      <th>Month</th>\n",
       "      <th>Full Date</th>\n",
       "      <th>MonthKey</th>\n",
       "    </tr>\n",
       "  </thead>\n",
       "  <tbody>\n",
       "    <tr>\n",
       "      <th>0</th>\n",
       "      <td>43659001</td>\n",
       "      <td>676</td>\n",
       "      <td>-1</td>\n",
       "      <td>349</td>\n",
       "      <td>20170702</td>\n",
       "      <td>20170712</td>\n",
       "      <td>20170709.0</td>\n",
       "      <td>5</td>\n",
       "      <td>1</td>\n",
       "      <td>2024.994</td>\n",
       "      <td>1898.0944</td>\n",
       "      <td>2024.994</td>\n",
       "      <td>20170702</td>\n",
       "      <td>42918</td>\n",
       "      <td>FY2018</td>\n",
       "      <td>FY2018 Q1</td>\n",
       "      <td>2017 Jul</td>\n",
       "      <td>2017 Jul, 02</td>\n",
       "      <td>201707</td>\n",
       "    </tr>\n",
       "    <tr>\n",
       "      <th>1</th>\n",
       "      <td>43659002</td>\n",
       "      <td>676</td>\n",
       "      <td>-1</td>\n",
       "      <td>350</td>\n",
       "      <td>20170702</td>\n",
       "      <td>20170712</td>\n",
       "      <td>20170709.0</td>\n",
       "      <td>5</td>\n",
       "      <td>3</td>\n",
       "      <td>2024.994</td>\n",
       "      <td>1898.0944</td>\n",
       "      <td>6074.982</td>\n",
       "      <td>20170702</td>\n",
       "      <td>42918</td>\n",
       "      <td>FY2018</td>\n",
       "      <td>FY2018 Q1</td>\n",
       "      <td>2017 Jul</td>\n",
       "      <td>2017 Jul, 02</td>\n",
       "      <td>201707</td>\n",
       "    </tr>\n",
       "    <tr>\n",
       "      <th>2</th>\n",
       "      <td>43659003</td>\n",
       "      <td>676</td>\n",
       "      <td>-1</td>\n",
       "      <td>351</td>\n",
       "      <td>20170702</td>\n",
       "      <td>20170712</td>\n",
       "      <td>20170709.0</td>\n",
       "      <td>5</td>\n",
       "      <td>1</td>\n",
       "      <td>2024.994</td>\n",
       "      <td>1898.0944</td>\n",
       "      <td>2024.994</td>\n",
       "      <td>20170702</td>\n",
       "      <td>42918</td>\n",
       "      <td>FY2018</td>\n",
       "      <td>FY2018 Q1</td>\n",
       "      <td>2017 Jul</td>\n",
       "      <td>2017 Jul, 02</td>\n",
       "      <td>201707</td>\n",
       "    </tr>\n",
       "    <tr>\n",
       "      <th>3</th>\n",
       "      <td>43659004</td>\n",
       "      <td>676</td>\n",
       "      <td>-1</td>\n",
       "      <td>344</td>\n",
       "      <td>20170702</td>\n",
       "      <td>20170712</td>\n",
       "      <td>20170709.0</td>\n",
       "      <td>5</td>\n",
       "      <td>1</td>\n",
       "      <td>2039.994</td>\n",
       "      <td>1912.1544</td>\n",
       "      <td>2039.994</td>\n",
       "      <td>20170702</td>\n",
       "      <td>42918</td>\n",
       "      <td>FY2018</td>\n",
       "      <td>FY2018 Q1</td>\n",
       "      <td>2017 Jul</td>\n",
       "      <td>2017 Jul, 02</td>\n",
       "      <td>201707</td>\n",
       "    </tr>\n",
       "    <tr>\n",
       "      <th>4</th>\n",
       "      <td>43659005</td>\n",
       "      <td>676</td>\n",
       "      <td>-1</td>\n",
       "      <td>345</td>\n",
       "      <td>20170702</td>\n",
       "      <td>20170712</td>\n",
       "      <td>20170709.0</td>\n",
       "      <td>5</td>\n",
       "      <td>1</td>\n",
       "      <td>2039.994</td>\n",
       "      <td>1912.1544</td>\n",
       "      <td>2039.994</td>\n",
       "      <td>20170702</td>\n",
       "      <td>42918</td>\n",
       "      <td>FY2018</td>\n",
       "      <td>FY2018 Q1</td>\n",
       "      <td>2017 Jul</td>\n",
       "      <td>2017 Jul, 02</td>\n",
       "      <td>201707</td>\n",
       "    </tr>\n",
       "  </tbody>\n",
       "</table>\n",
       "</div>"
      ],
      "text/plain": [
       "   SalesOrderLineKey  ResellerKey  CustomerKey  ProductKey  OrderDateKey  \\\n",
       "0           43659001          676           -1         349      20170702   \n",
       "1           43659002          676           -1         350      20170702   \n",
       "2           43659003          676           -1         351      20170702   \n",
       "3           43659004          676           -1         344      20170702   \n",
       "4           43659005          676           -1         345      20170702   \n",
       "\n",
       "   DueDateKey  ShipDateKey  SalesTerritoryKey  Order Quantity  Unit Price  \\\n",
       "0    20170712   20170709.0                  5               1    2024.994   \n",
       "1    20170712   20170709.0                  5               3    2024.994   \n",
       "2    20170712   20170709.0                  5               1    2024.994   \n",
       "3    20170712   20170709.0                  5               1    2039.994   \n",
       "4    20170712   20170709.0                  5               1    2039.994   \n",
       "\n",
       "   Product Cost  Gross Sales    DateKey   Date Fiscal Year Fiscal Quarter  \\\n",
       "0     1898.0944      2024.994  20170702  42918      FY2018      FY2018 Q1   \n",
       "1     1898.0944      6074.982  20170702  42918      FY2018      FY2018 Q1   \n",
       "2     1898.0944      2024.994  20170702  42918      FY2018      FY2018 Q1   \n",
       "3     1912.1544      2039.994  20170702  42918      FY2018      FY2018 Q1   \n",
       "4     1912.1544      2039.994  20170702  42918      FY2018      FY2018 Q1   \n",
       "\n",
       "      Month     Full Date  MonthKey  \n",
       "0  2017 Jul  2017 Jul, 02    201707  \n",
       "1  2017 Jul  2017 Jul, 02    201707  \n",
       "2  2017 Jul  2017 Jul, 02    201707  \n",
       "3  2017 Jul  2017 Jul, 02    201707  \n",
       "4  2017 Jul  2017 Jul, 02    201707  "
      ]
     },
     "execution_count": 17,
     "metadata": {},
     "output_type": "execute_result"
    }
   ],
   "source": [
    "SD.head()"
   ]
  },
  {
   "cell_type": "code",
   "execution_count": 31,
   "id": "98663248",
   "metadata": {},
   "outputs": [],
   "source": [
    "NewSD=SD.assign(NetSale=round(SD[\"Gross Sales \"]-(SD[\"Product Cost\"]*SD[\"Order Quantity\"])))"
   ]
  },
  {
   "cell_type": "code",
   "execution_count": 33,
   "id": "6b8fe996",
   "metadata": {
    "collapsed": true
   },
   "outputs": [
    {
     "data": {
      "text/html": [
       "<div>\n",
       "<style scoped>\n",
       "    .dataframe tbody tr th:only-of-type {\n",
       "        vertical-align: middle;\n",
       "    }\n",
       "\n",
       "    .dataframe tbody tr th {\n",
       "        vertical-align: top;\n",
       "    }\n",
       "\n",
       "    .dataframe thead th {\n",
       "        text-align: right;\n",
       "    }\n",
       "</style>\n",
       "<table border=\"1\" class=\"dataframe\">\n",
       "  <thead>\n",
       "    <tr style=\"text-align: right;\">\n",
       "      <th></th>\n",
       "      <th>SalesOrderLineKey</th>\n",
       "      <th>ResellerKey</th>\n",
       "      <th>CustomerKey</th>\n",
       "      <th>ProductKey</th>\n",
       "      <th>OrderDateKey</th>\n",
       "      <th>DueDateKey</th>\n",
       "      <th>ShipDateKey</th>\n",
       "      <th>SalesTerritoryKey</th>\n",
       "      <th>Order Quantity</th>\n",
       "      <th>Unit Price</th>\n",
       "      <th>Product Cost</th>\n",
       "      <th>Gross Sales</th>\n",
       "      <th>DateKey</th>\n",
       "      <th>Date</th>\n",
       "      <th>Fiscal Year</th>\n",
       "      <th>Fiscal Quarter</th>\n",
       "      <th>Month</th>\n",
       "      <th>Full Date</th>\n",
       "      <th>MonthKey</th>\n",
       "      <th>NetSale</th>\n",
       "    </tr>\n",
       "  </thead>\n",
       "  <tbody>\n",
       "    <tr>\n",
       "      <th>0</th>\n",
       "      <td>43659001</td>\n",
       "      <td>676</td>\n",
       "      <td>-1</td>\n",
       "      <td>349</td>\n",
       "      <td>20170702</td>\n",
       "      <td>20170712</td>\n",
       "      <td>20170709.0</td>\n",
       "      <td>5</td>\n",
       "      <td>1</td>\n",
       "      <td>2024.994</td>\n",
       "      <td>1898.0944</td>\n",
       "      <td>2024.994</td>\n",
       "      <td>20170702</td>\n",
       "      <td>42918</td>\n",
       "      <td>FY2018</td>\n",
       "      <td>FY2018 Q1</td>\n",
       "      <td>2017 Jul</td>\n",
       "      <td>2017 Jul, 02</td>\n",
       "      <td>201707</td>\n",
       "      <td>127.0</td>\n",
       "    </tr>\n",
       "    <tr>\n",
       "      <th>1</th>\n",
       "      <td>43659002</td>\n",
       "      <td>676</td>\n",
       "      <td>-1</td>\n",
       "      <td>350</td>\n",
       "      <td>20170702</td>\n",
       "      <td>20170712</td>\n",
       "      <td>20170709.0</td>\n",
       "      <td>5</td>\n",
       "      <td>3</td>\n",
       "      <td>2024.994</td>\n",
       "      <td>1898.0944</td>\n",
       "      <td>6074.982</td>\n",
       "      <td>20170702</td>\n",
       "      <td>42918</td>\n",
       "      <td>FY2018</td>\n",
       "      <td>FY2018 Q1</td>\n",
       "      <td>2017 Jul</td>\n",
       "      <td>2017 Jul, 02</td>\n",
       "      <td>201707</td>\n",
       "      <td>381.0</td>\n",
       "    </tr>\n",
       "    <tr>\n",
       "      <th>2</th>\n",
       "      <td>43659003</td>\n",
       "      <td>676</td>\n",
       "      <td>-1</td>\n",
       "      <td>351</td>\n",
       "      <td>20170702</td>\n",
       "      <td>20170712</td>\n",
       "      <td>20170709.0</td>\n",
       "      <td>5</td>\n",
       "      <td>1</td>\n",
       "      <td>2024.994</td>\n",
       "      <td>1898.0944</td>\n",
       "      <td>2024.994</td>\n",
       "      <td>20170702</td>\n",
       "      <td>42918</td>\n",
       "      <td>FY2018</td>\n",
       "      <td>FY2018 Q1</td>\n",
       "      <td>2017 Jul</td>\n",
       "      <td>2017 Jul, 02</td>\n",
       "      <td>201707</td>\n",
       "      <td>127.0</td>\n",
       "    </tr>\n",
       "    <tr>\n",
       "      <th>3</th>\n",
       "      <td>43659004</td>\n",
       "      <td>676</td>\n",
       "      <td>-1</td>\n",
       "      <td>344</td>\n",
       "      <td>20170702</td>\n",
       "      <td>20170712</td>\n",
       "      <td>20170709.0</td>\n",
       "      <td>5</td>\n",
       "      <td>1</td>\n",
       "      <td>2039.994</td>\n",
       "      <td>1912.1544</td>\n",
       "      <td>2039.994</td>\n",
       "      <td>20170702</td>\n",
       "      <td>42918</td>\n",
       "      <td>FY2018</td>\n",
       "      <td>FY2018 Q1</td>\n",
       "      <td>2017 Jul</td>\n",
       "      <td>2017 Jul, 02</td>\n",
       "      <td>201707</td>\n",
       "      <td>128.0</td>\n",
       "    </tr>\n",
       "    <tr>\n",
       "      <th>4</th>\n",
       "      <td>43659005</td>\n",
       "      <td>676</td>\n",
       "      <td>-1</td>\n",
       "      <td>345</td>\n",
       "      <td>20170702</td>\n",
       "      <td>20170712</td>\n",
       "      <td>20170709.0</td>\n",
       "      <td>5</td>\n",
       "      <td>1</td>\n",
       "      <td>2039.994</td>\n",
       "      <td>1912.1544</td>\n",
       "      <td>2039.994</td>\n",
       "      <td>20170702</td>\n",
       "      <td>42918</td>\n",
       "      <td>FY2018</td>\n",
       "      <td>FY2018 Q1</td>\n",
       "      <td>2017 Jul</td>\n",
       "      <td>2017 Jul, 02</td>\n",
       "      <td>201707</td>\n",
       "      <td>128.0</td>\n",
       "    </tr>\n",
       "  </tbody>\n",
       "</table>\n",
       "</div>"
      ],
      "text/plain": [
       "   SalesOrderLineKey  ResellerKey  CustomerKey  ProductKey  OrderDateKey  \\\n",
       "0           43659001          676           -1         349      20170702   \n",
       "1           43659002          676           -1         350      20170702   \n",
       "2           43659003          676           -1         351      20170702   \n",
       "3           43659004          676           -1         344      20170702   \n",
       "4           43659005          676           -1         345      20170702   \n",
       "\n",
       "   DueDateKey  ShipDateKey  SalesTerritoryKey  Order Quantity  Unit Price  \\\n",
       "0    20170712   20170709.0                  5               1    2024.994   \n",
       "1    20170712   20170709.0                  5               3    2024.994   \n",
       "2    20170712   20170709.0                  5               1    2024.994   \n",
       "3    20170712   20170709.0                  5               1    2039.994   \n",
       "4    20170712   20170709.0                  5               1    2039.994   \n",
       "\n",
       "   Product Cost  Gross Sales    DateKey   Date Fiscal Year Fiscal Quarter  \\\n",
       "0     1898.0944      2024.994  20170702  42918      FY2018      FY2018 Q1   \n",
       "1     1898.0944      6074.982  20170702  42918      FY2018      FY2018 Q1   \n",
       "2     1898.0944      2024.994  20170702  42918      FY2018      FY2018 Q1   \n",
       "3     1912.1544      2039.994  20170702  42918      FY2018      FY2018 Q1   \n",
       "4     1912.1544      2039.994  20170702  42918      FY2018      FY2018 Q1   \n",
       "\n",
       "      Month     Full Date  MonthKey  NetSale  \n",
       "0  2017 Jul  2017 Jul, 02    201707    127.0  \n",
       "1  2017 Jul  2017 Jul, 02    201707    381.0  \n",
       "2  2017 Jul  2017 Jul, 02    201707    127.0  \n",
       "3  2017 Jul  2017 Jul, 02    201707    128.0  \n",
       "4  2017 Jul  2017 Jul, 02    201707    128.0  "
      ]
     },
     "execution_count": 33,
     "metadata": {},
     "output_type": "execute_result"
    }
   ],
   "source": [
    "NewSD.head()"
   ]
  },
  {
   "cell_type": "code",
   "execution_count": 35,
   "id": "d2d414ad",
   "metadata": {},
   "outputs": [],
   "source": [
    "import numpy as np\n",
    "pvt=pd.pivot_table(NewSD, values='NetSale', index=\"Fiscal Quarter\",aggfunc=np.sum)"
   ]
  },
  {
   "cell_type": "code",
   "execution_count": 36,
   "id": "4466b38a",
   "metadata": {
    "collapsed": true
   },
   "outputs": [
    {
     "data": {
      "text/html": [
       "<div>\n",
       "<style scoped>\n",
       "    .dataframe tbody tr th:only-of-type {\n",
       "        vertical-align: middle;\n",
       "    }\n",
       "\n",
       "    .dataframe tbody tr th {\n",
       "        vertical-align: top;\n",
       "    }\n",
       "\n",
       "    .dataframe thead th {\n",
       "        text-align: right;\n",
       "    }\n",
       "</style>\n",
       "<table border=\"1\" class=\"dataframe\">\n",
       "  <thead>\n",
       "    <tr style=\"text-align: right;\">\n",
       "      <th></th>\n",
       "      <th>NetSale</th>\n",
       "    </tr>\n",
       "    <tr>\n",
       "      <th>Fiscal Quarter</th>\n",
       "      <th></th>\n",
       "    </tr>\n",
       "  </thead>\n",
       "  <tbody>\n",
       "    <tr>\n",
       "      <th>FY2018 Q1</th>\n",
       "      <td>962635.0</td>\n",
       "    </tr>\n",
       "    <tr>\n",
       "      <th>FY2018 Q2</th>\n",
       "      <td>922508.0</td>\n",
       "    </tr>\n",
       "    <tr>\n",
       "      <th>FY2018 Q3</th>\n",
       "      <td>912554.0</td>\n",
       "    </tr>\n",
       "    <tr>\n",
       "      <th>FY2018 Q4</th>\n",
       "      <td>378827.0</td>\n",
       "    </tr>\n",
       "    <tr>\n",
       "      <th>FY2019 Q1</th>\n",
       "      <td>915070.0</td>\n",
       "    </tr>\n",
       "  </tbody>\n",
       "</table>\n",
       "</div>"
      ],
      "text/plain": [
       "                 NetSale\n",
       "Fiscal Quarter          \n",
       "FY2018 Q1       962635.0\n",
       "FY2018 Q2       922508.0\n",
       "FY2018 Q3       912554.0\n",
       "FY2018 Q4       378827.0\n",
       "FY2019 Q1       915070.0"
      ]
     },
     "execution_count": 36,
     "metadata": {},
     "output_type": "execute_result"
    }
   ],
   "source": [
    "pvt=np.round(pvt,2)\n",
    "pvt.head()"
   ]
  },
  {
   "cell_type": "code",
   "execution_count": 51,
   "id": "c6abf944",
   "metadata": {
    "collapsed": true
   },
   "outputs": [
    {
     "data": {
      "text/plain": [
       "<AxesSubplot:title={'center':'Quaterly Sales'}, xlabel='Fiscal Quarter', ylabel='In 100k'>"
      ]
     },
     "execution_count": 51,
     "metadata": {},
     "output_type": "execute_result"
    },
    {
     "data": {
      "image/png": "[encoded data removed]",
      "text/plain": [
       "<Figure size 432x288 with 1 Axes>"
      ]
     },
     "metadata": {
      "needs_background": "light"
     },
     "output_type": "display_data"
    }
   ],
   "source": [
    "\n",
    "pvt.plot(kind=\"bar\",title=\"Quaterly Sales\",ylabel=\"In 100k\")"
   ]
  },
  {
   "cell_type": "code",
   "execution_count": 52,
   "id": "b1b7b9a7",
   "metadata": {
    "collapsed": true
   },
   "outputs": [
    {
     "data": {
      "text/plain": [
       "array([<AxesSubplot:ylabel='NetSale'>], dtype=object)"
      ]
     },
     "execution_count": 52,
     "metadata": {},
     "output_type": "execute_result"
    },
    {
     "data": {
      "image/png": "[encoded data removed]",
      "text/plain": [
       "<Figure size 720x720 with 1 Axes>"
      ]
     },
     "metadata": {},
     "output_type": "display_data"
    }
   ],
   "source": [
    "pvt.iloc[:4].plot(kind=\"pie\",xlim=(0,1),title=\"Quaterly Net Sale\",subplots=\"True\",figsize=(10,10))"
   ]
  },
  {
   "cell_type": "code",
   "execution_count": 53,
   "id": "e58a3d70",
   "metadata": {
    "collapsed": true
   },
   "outputs": [
    {
     "data": {
      "text/plain": [
       "array([<AxesSubplot:ylabel='NetSale'>], dtype=object)"
      ]
     },
     "execution_count": 53,
     "metadata": {},
     "output_type": "execute_result"
    },
    {
     "data": {
      "image/png": "[encoded data removed]",
      "text/plain": [
       "<Figure size 720x720 with 1 Axes>"
      ]
     },
     "metadata": {},
     "output_type": "display_data"
    }
   ],
   "source": [
    "pvt.iloc[4:8].plot(kind=\"pie\",xlim=(0,1),title=\"Quaterly Net Sale\",subplots=\"True\",figsize=(10,10))"
   ]
  },
  {
   "cell_type": "code",
   "execution_count": 54,
   "id": "b65f053b",
   "metadata": {
    "collapsed": true
   },
   "outputs": [
    {
     "data": {
      "text/plain": [
       "array([<AxesSubplot:ylabel='NetSale'>], dtype=object)"
      ]
     },
     "execution_count": 54,
     "metadata": {},
     "output_type": "execute_result"
    },
    {
     "data": {
      "image/png": "[encoded data removed]",
      "text/plain": [
       "<Figure size 720x720 with 1 Axes>"
      ]
     },
     "metadata": {},
     "output_type": "display_data"
    }
   ],
   "source": [
    "pvt.iloc[8:12].plot(kind=\"pie\",xlim=(0,1),title=\"Quaterly Net Sale\",subplots=\"True\",figsize=(10,10))"
   ]
  },
  {
   "cell_type": "code",
   "execution_count": 56,
   "id": "0f8cb257",
   "metadata": {},
   "outputs": [
    {
     "data": {
      "text/html": [
       "<div>\n",
       "<style scoped>\n",
       "    .dataframe tbody tr th:only-of-type {\n",
       "        vertical-align: middle;\n",
       "    }\n",
       "\n",
       "    .dataframe tbody tr th {\n",
       "        vertical-align: top;\n",
       "    }\n",
       "\n",
       "    .dataframe thead th {\n",
       "        text-align: right;\n",
       "    }\n",
       "</style>\n",
       "<table border=\"1\" class=\"dataframe\">\n",
       "  <thead>\n",
       "    <tr style=\"text-align: right;\">\n",
       "      <th></th>\n",
       "      <th>ProductKey</th>\n",
       "      <th>SKU</th>\n",
       "      <th>Product</th>\n",
       "      <th>Standard Cost</th>\n",
       "      <th>Color</th>\n",
       "      <th>List Price</th>\n",
       "      <th>Model</th>\n",
       "      <th>Subcategory</th>\n",
       "      <th>Category</th>\n",
       "    </tr>\n",
       "  </thead>\n",
       "  <tbody>\n",
       "    <tr>\n",
       "      <th>0</th>\n",
       "      <td>210</td>\n",
       "      <td>FR-R92B-58</td>\n",
       "      <td>HL Road Frame - Black, 58</td>\n",
       "      <td>868.6342</td>\n",
       "      <td>Black</td>\n",
       "      <td>1431.5000</td>\n",
       "      <td>HL Road Frame</td>\n",
       "      <td>Road Frames</td>\n",
       "      <td>Components</td>\n",
       "    </tr>\n",
       "    <tr>\n",
       "      <th>1</th>\n",
       "      <td>211</td>\n",
       "      <td>FR-R92R-58</td>\n",
       "      <td>HL Road Frame - Red, 58</td>\n",
       "      <td>868.6342</td>\n",
       "      <td>Red</td>\n",
       "      <td>1431.5000</td>\n",
       "      <td>HL Road Frame</td>\n",
       "      <td>Road Frames</td>\n",
       "      <td>Components</td>\n",
       "    </tr>\n",
       "    <tr>\n",
       "      <th>2</th>\n",
       "      <td>212</td>\n",
       "      <td>HL-U509-R</td>\n",
       "      <td>Sport-100 Helmet, Red</td>\n",
       "      <td>12.0278</td>\n",
       "      <td>Red</td>\n",
       "      <td>33.6442</td>\n",
       "      <td>Sport-100</td>\n",
       "      <td>Helmets</td>\n",
       "      <td>Accessories</td>\n",
       "    </tr>\n",
       "    <tr>\n",
       "      <th>3</th>\n",
       "      <td>213</td>\n",
       "      <td>HL-U509-R</td>\n",
       "      <td>Sport-100 Helmet, Red</td>\n",
       "      <td>13.8782</td>\n",
       "      <td>Red</td>\n",
       "      <td>33.6442</td>\n",
       "      <td>Sport-100</td>\n",
       "      <td>Helmets</td>\n",
       "      <td>Accessories</td>\n",
       "    </tr>\n",
       "    <tr>\n",
       "      <th>4</th>\n",
       "      <td>214</td>\n",
       "      <td>HL-U509-R</td>\n",
       "      <td>Sport-100 Helmet, Red</td>\n",
       "      <td>13.0863</td>\n",
       "      <td>Red</td>\n",
       "      <td>34.9900</td>\n",
       "      <td>Sport-100</td>\n",
       "      <td>Helmets</td>\n",
       "      <td>Accessories</td>\n",
       "    </tr>\n",
       "  </tbody>\n",
       "</table>\n",
       "</div>"
      ],
      "text/plain": [
       "   ProductKey         SKU                    Product  Standard Cost  Color  \\\n",
       "0         210  FR-R92B-58  HL Road Frame - Black, 58       868.6342  Black   \n",
       "1         211  FR-R92R-58    HL Road Frame - Red, 58       868.6342    Red   \n",
       "2         212   HL-U509-R      Sport-100 Helmet, Red        12.0278    Red   \n",
       "3         213   HL-U509-R      Sport-100 Helmet, Red        13.8782    Red   \n",
       "4         214   HL-U509-R      Sport-100 Helmet, Red        13.0863    Red   \n",
       "\n",
       "   List Price          Model  Subcategory     Category  \n",
       "0   1431.5000  HL Road Frame  Road Frames   Components  \n",
       "1   1431.5000  HL Road Frame  Road Frames   Components  \n",
       "2     33.6442      Sport-100      Helmets  Accessories  \n",
       "3     33.6442      Sport-100      Helmets  Accessories  \n",
       "4     34.9900      Sport-100      Helmets  Accessories  "
      ]
     },
     "execution_count": 56,
     "metadata": {},
     "output_type": "execute_result"
    }
   ],
   "source": [
    "P_df=df.get('Product_data')\n",
    "P_df.head()"
   ]
  },
  {
   "cell_type": "code",
   "execution_count": 57,
   "id": "45874595",
   "metadata": {},
   "outputs": [],
   "source": [
    "SP=pd.merge(NewSD,P_df,how='inner',left_on='ProductKey',right_on=\"ProductKey\")"
   ]
  },
  {
   "cell_type": "code",
   "execution_count": 58,
   "id": "3a7e60ab",
   "metadata": {},
   "outputs": [
    {
     "data": {
      "text/html": [
       "<div>\n",
       "<style scoped>\n",
       "    .dataframe tbody tr th:only-of-type {\n",
       "        vertical-align: middle;\n",
       "    }\n",
       "\n",
       "    .dataframe tbody tr th {\n",
       "        vertical-align: top;\n",
       "    }\n",
       "\n",
       "    .dataframe thead th {\n",
       "        text-align: right;\n",
       "    }\n",
       "</style>\n",
       "<table border=\"1\" class=\"dataframe\">\n",
       "  <thead>\n",
       "    <tr style=\"text-align: right;\">\n",
       "      <th></th>\n",
       "      <th>SalesOrderLineKey</th>\n",
       "      <th>ResellerKey</th>\n",
       "      <th>CustomerKey</th>\n",
       "      <th>ProductKey</th>\n",
       "      <th>OrderDateKey</th>\n",
       "      <th>DueDateKey</th>\n",
       "      <th>ShipDateKey</th>\n",
       "      <th>SalesTerritoryKey</th>\n",
       "      <th>Order Quantity</th>\n",
       "      <th>Unit Price</th>\n",
       "      <th>...</th>\n",
       "      <th>MonthKey</th>\n",
       "      <th>NetSale</th>\n",
       "      <th>SKU</th>\n",
       "      <th>Product</th>\n",
       "      <th>Standard Cost</th>\n",
       "      <th>Color</th>\n",
       "      <th>List Price</th>\n",
       "      <th>Model</th>\n",
       "      <th>Subcategory</th>\n",
       "      <th>Category</th>\n",
       "    </tr>\n",
       "  </thead>\n",
       "  <tbody>\n",
       "    <tr>\n",
       "      <th>0</th>\n",
       "      <td>43659001</td>\n",
       "      <td>676</td>\n",
       "      <td>-1</td>\n",
       "      <td>349</td>\n",
       "      <td>20170702</td>\n",
       "      <td>20170712</td>\n",
       "      <td>20170709.0</td>\n",
       "      <td>5</td>\n",
       "      <td>1</td>\n",
       "      <td>2024.994</td>\n",
       "      <td>...</td>\n",
       "      <td>201707</td>\n",
       "      <td>127.0</td>\n",
       "      <td>BK-M82B-42</td>\n",
       "      <td>Mountain-100 Black, 42</td>\n",
       "      <td>1898.0944</td>\n",
       "      <td>Black</td>\n",
       "      <td>3374.99</td>\n",
       "      <td>Mountain-100</td>\n",
       "      <td>Mountain Bikes</td>\n",
       "      <td>Bikes</td>\n",
       "    </tr>\n",
       "    <tr>\n",
       "      <th>1</th>\n",
       "      <td>43661011</td>\n",
       "      <td>442</td>\n",
       "      <td>-1</td>\n",
       "      <td>349</td>\n",
       "      <td>20170705</td>\n",
       "      <td>20170715</td>\n",
       "      <td>20170712.0</td>\n",
       "      <td>6</td>\n",
       "      <td>4</td>\n",
       "      <td>2024.994</td>\n",
       "      <td>...</td>\n",
       "      <td>201707</td>\n",
       "      <td>508.0</td>\n",
       "      <td>BK-M82B-42</td>\n",
       "      <td>Mountain-100 Black, 42</td>\n",
       "      <td>1898.0944</td>\n",
       "      <td>Black</td>\n",
       "      <td>3374.99</td>\n",
       "      <td>Mountain-100</td>\n",
       "      <td>Mountain Bikes</td>\n",
       "      <td>Bikes</td>\n",
       "    </tr>\n",
       "    <tr>\n",
       "      <th>2</th>\n",
       "      <td>43665010</td>\n",
       "      <td>146</td>\n",
       "      <td>-1</td>\n",
       "      <td>349</td>\n",
       "      <td>20170707</td>\n",
       "      <td>20170717</td>\n",
       "      <td>20170714.0</td>\n",
       "      <td>1</td>\n",
       "      <td>1</td>\n",
       "      <td>2024.994</td>\n",
       "      <td>...</td>\n",
       "      <td>201707</td>\n",
       "      <td>127.0</td>\n",
       "      <td>BK-M82B-42</td>\n",
       "      <td>Mountain-100 Black, 42</td>\n",
       "      <td>1898.0944</td>\n",
       "      <td>Black</td>\n",
       "      <td>3374.99</td>\n",
       "      <td>Mountain-100</td>\n",
       "      <td>Mountain Bikes</td>\n",
       "      <td>Bikes</td>\n",
       "    </tr>\n",
       "    <tr>\n",
       "      <th>3</th>\n",
       "      <td>43670004</td>\n",
       "      <td>504</td>\n",
       "      <td>-1</td>\n",
       "      <td>349</td>\n",
       "      <td>20170712</td>\n",
       "      <td>20170722</td>\n",
       "      <td>20170719.0</td>\n",
       "      <td>3</td>\n",
       "      <td>1</td>\n",
       "      <td>2024.994</td>\n",
       "      <td>...</td>\n",
       "      <td>201707</td>\n",
       "      <td>127.0</td>\n",
       "      <td>BK-M82B-42</td>\n",
       "      <td>Mountain-100 Black, 42</td>\n",
       "      <td>1898.0944</td>\n",
       "      <td>Black</td>\n",
       "      <td>3374.99</td>\n",
       "      <td>Mountain-100</td>\n",
       "      <td>Mountain Bikes</td>\n",
       "      <td>Bikes</td>\n",
       "    </tr>\n",
       "    <tr>\n",
       "      <th>4</th>\n",
       "      <td>43672002</td>\n",
       "      <td>119</td>\n",
       "      <td>-1</td>\n",
       "      <td>349</td>\n",
       "      <td>20170716</td>\n",
       "      <td>20170726</td>\n",
       "      <td>20170723.0</td>\n",
       "      <td>6</td>\n",
       "      <td>2</td>\n",
       "      <td>2024.994</td>\n",
       "      <td>...</td>\n",
       "      <td>201707</td>\n",
       "      <td>254.0</td>\n",
       "      <td>BK-M82B-42</td>\n",
       "      <td>Mountain-100 Black, 42</td>\n",
       "      <td>1898.0944</td>\n",
       "      <td>Black</td>\n",
       "      <td>3374.99</td>\n",
       "      <td>Mountain-100</td>\n",
       "      <td>Mountain Bikes</td>\n",
       "      <td>Bikes</td>\n",
       "    </tr>\n",
       "  </tbody>\n",
       "</table>\n",
       "<p>5 rows × 28 columns</p>\n",
       "</div>"
      ],
      "text/plain": [
       "   SalesOrderLineKey  ResellerKey  CustomerKey  ProductKey  OrderDateKey  \\\n",
       "0           43659001          676           -1         349      20170702   \n",
       "1           43661011          442           -1         349      20170705   \n",
       "2           43665010          146           -1         349      20170707   \n",
       "3           43670004          504           -1         349      20170712   \n",
       "4           43672002          119           -1         349      20170716   \n",
       "\n",
       "   DueDateKey  ShipDateKey  SalesTerritoryKey  Order Quantity  Unit Price  \\\n",
       "0    20170712   20170709.0                  5               1    2024.994   \n",
       "1    20170715   20170712.0                  6               4    2024.994   \n",
       "2    20170717   20170714.0                  1               1    2024.994   \n",
       "3    20170722   20170719.0                  3               1    2024.994   \n",
       "4    20170726   20170723.0                  6               2    2024.994   \n",
       "\n",
       "   ...  MonthKey  NetSale         SKU                 Product Standard Cost  \\\n",
       "0  ...    201707    127.0  BK-M82B-42  Mountain-100 Black, 42     1898.0944   \n",
       "1  ...    201707    508.0  BK-M82B-42  Mountain-100 Black, 42     1898.0944   \n",
       "2  ...    201707    127.0  BK-M82B-42  Mountain-100 Black, 42     1898.0944   \n",
       "3  ...    201707    127.0  BK-M82B-42  Mountain-100 Black, 42     1898.0944   \n",
       "4  ...    201707    254.0  BK-M82B-42  Mountain-100 Black, 42     1898.0944   \n",
       "\n",
       "   Color List Price         Model     Subcategory  Category  \n",
       "0  Black    3374.99  Mountain-100  Mountain Bikes     Bikes  \n",
       "1  Black    3374.99  Mountain-100  Mountain Bikes     Bikes  \n",
       "2  Black    3374.99  Mountain-100  Mountain Bikes     Bikes  \n",
       "3  Black    3374.99  Mountain-100  Mountain Bikes     Bikes  \n",
       "4  Black    3374.99  Mountain-100  Mountain Bikes     Bikes  \n",
       "\n",
       "[5 rows x 28 columns]"
      ]
     },
     "execution_count": 58,
     "metadata": {},
     "output_type": "execute_result"
    }
   ],
   "source": [
    "SP.head()"
   ]
  },
  {
   "cell_type": "code",
   "execution_count": 90,
   "id": "8491c4c0",
   "metadata": {},
   "outputs": [],
   "source": [
    "pvtP=pd.pivot_table(SP, values='NetSale', index=[\"Category\"],aggfunc=np.sum)"
   ]
  },
  {
   "cell_type": "code",
   "execution_count": 92,
   "id": "54d19f38",
   "metadata": {},
   "outputs": [
    {
     "data": {
      "text/html": [
       "<div>\n",
       "<style scoped>\n",
       "    .dataframe tbody tr th:only-of-type {\n",
       "        vertical-align: middle;\n",
       "    }\n",
       "\n",
       "    .dataframe tbody tr th {\n",
       "        vertical-align: top;\n",
       "    }\n",
       "\n",
       "    .dataframe thead th {\n",
       "        text-align: right;\n",
       "    }\n",
       "</style>\n",
       "<table border=\"1\" class=\"dataframe\">\n",
       "  <thead>\n",
       "    <tr style=\"text-align: right;\">\n",
       "      <th></th>\n",
       "      <th>NetSale</th>\n",
       "    </tr>\n",
       "    <tr>\n",
       "      <th>Category</th>\n",
       "      <th></th>\n",
       "    </tr>\n",
       "  </thead>\n",
       "  <tbody>\n",
       "    <tr>\n",
       "      <th>Accessories</th>\n",
       "      <td>638601.0</td>\n",
       "    </tr>\n",
       "    <tr>\n",
       "      <th>Bikes</th>\n",
       "      <td>11008343.0</td>\n",
       "    </tr>\n",
       "    <tr>\n",
       "      <th>Clothing</th>\n",
       "      <td>387878.0</td>\n",
       "    </tr>\n",
       "    <tr>\n",
       "      <th>Components</th>\n",
       "      <td>1037890.0</td>\n",
       "    </tr>\n",
       "  </tbody>\n",
       "</table>\n",
       "</div>"
      ],
      "text/plain": [
       "                NetSale\n",
       "Category               \n",
       "Accessories    638601.0\n",
       "Bikes        11008343.0\n",
       "Clothing       387878.0\n",
       "Components    1037890.0"
      ]
     },
     "execution_count": 92,
     "metadata": {},
     "output_type": "execute_result"
    }
   ],
   "source": [
    "pvtP"
   ]
  },
  {
   "cell_type": "code",
   "execution_count": 99,
   "id": "2e88aed0",
   "metadata": {},
   "outputs": [
    {
     "data": {
      "text/plain": [
       "array([<AxesSubplot:ylabel='NetSale'>], dtype=object)"
      ]
     },
     "execution_count": 99,
     "metadata": {},
     "output_type": "execute_result"
    },
    {
     "data": {
      "image/png": "[encoded data removed]",
      "text/plain": [
       "<Figure size 720x720 with 1 Axes>"
      ]
     },
     "metadata": {},
     "output_type": "display_data"
    }
   ],
   "source": [
    "pvtP.plot(kind=\"pie\",subplots=\"True\",figsize=(10,10),title=\"Sale as per Category\")"
   ]
  },
  {
   "cell_type": "code",
   "execution_count": 2,
   "id": "06c321ad",
   "metadata": {},
   "outputs": [],
   "source": [
    "import matplotlib.pyplot as plt\n",
    "from sklearn.linear_model import LinearRegression\n",
    "import numpy as np"
   ]
  },
  {
   "cell_type": "code",
   "execution_count": 3,
   "id": "d3a6883a",
   "metadata": {},
   "outputs": [],
   "source": [
    "x = np.array([])\n",
    "y = np.array([])"
   ]
  },
  {
   "cell_type": "code",
   "execution_count": 4,
   "id": "4a269a73",
   "metadata": {},
   "outputs": [],
   "source": [
    "linreg = LinearRegression()"
   ]
  },
  {
   "cell_type": "code",
   "execution_count": 5,
   "id": "40a18d7a",
   "metadata": {},
   "outputs": [
    {
     "ename": "ValueError",
     "evalue": "Found array with 0 sample(s) (shape=(0, 1)) while a minimum of 1 is required.",
     "output_type": "error",
     "traceback": [
      "\u001b[1;31m---------------------------------------------------------------------------\u001b[0m",
      "\u001b[1;31mValueError\u001b[0m                                Traceback (most recent call last)",
      "Input \u001b[1;32mIn [5]\u001b[0m, in \u001b[0;36m<cell line: 2>\u001b[1;34m()\u001b[0m\n\u001b[0;32m      1\u001b[0m x \u001b[38;5;241m=\u001b[39m x\u001b[38;5;241m.\u001b[39mreshape(\u001b[38;5;241m-\u001b[39m\u001b[38;5;241m1\u001b[39m,\u001b[38;5;241m1\u001b[39m)\n\u001b[1;32m----> 2\u001b[0m \u001b[43mlinreg\u001b[49m\u001b[38;5;241;43m.\u001b[39;49m\u001b[43mfit\u001b[49m\u001b[43m(\u001b[49m\u001b[43mx\u001b[49m\u001b[43m,\u001b[49m\u001b[43my\u001b[49m\u001b[43m)\u001b[49m\n",
      "File \u001b[1;32m~\\anaconda3\\lib\\site-packages\\sklearn\\linear_model\\_base.py:662\u001b[0m, in \u001b[0;36mLinearRegression.fit\u001b[1;34m(self, X, y, sample_weight)\u001b[0m\n\u001b[0;32m    658\u001b[0m n_jobs_ \u001b[38;5;241m=\u001b[39m \u001b[38;5;28mself\u001b[39m\u001b[38;5;241m.\u001b[39mn_jobs\n\u001b[0;32m    660\u001b[0m accept_sparse \u001b[38;5;241m=\u001b[39m \u001b[38;5;28;01mFalse\u001b[39;00m \u001b[38;5;28;01mif\u001b[39;00m \u001b[38;5;28mself\u001b[39m\u001b[38;5;241m.\u001b[39mpositive \u001b[38;5;28;01melse\u001b[39;00m [\u001b[38;5;124m\"\u001b[39m\u001b[38;5;124mcsr\u001b[39m\u001b[38;5;124m\"\u001b[39m, \u001b[38;5;124m\"\u001b[39m\u001b[38;5;124mcsc\u001b[39m\u001b[38;5;124m\"\u001b[39m, \u001b[38;5;124m\"\u001b[39m\u001b[38;5;124mcoo\u001b[39m\u001b[38;5;124m\"\u001b[39m]\n\u001b[1;32m--> 662\u001b[0m X, y \u001b[38;5;241m=\u001b[39m \u001b[38;5;28;43mself\u001b[39;49m\u001b[38;5;241;43m.\u001b[39;49m\u001b[43m_validate_data\u001b[49m\u001b[43m(\u001b[49m\n\u001b[0;32m    663\u001b[0m \u001b[43m    \u001b[49m\u001b[43mX\u001b[49m\u001b[43m,\u001b[49m\u001b[43m \u001b[49m\u001b[43my\u001b[49m\u001b[43m,\u001b[49m\u001b[43m \u001b[49m\u001b[43maccept_sparse\u001b[49m\u001b[38;5;241;43m=\u001b[39;49m\u001b[43maccept_sparse\u001b[49m\u001b[43m,\u001b[49m\u001b[43m \u001b[49m\u001b[43my_numeric\u001b[49m\u001b[38;5;241;43m=\u001b[39;49m\u001b[38;5;28;43;01mTrue\u001b[39;49;00m\u001b[43m,\u001b[49m\u001b[43m \u001b[49m\u001b[43mmulti_output\u001b[49m\u001b[38;5;241;43m=\u001b[39;49m\u001b[38;5;28;43;01mTrue\u001b[39;49;00m\n\u001b[0;32m    664\u001b[0m \u001b[43m\u001b[49m\u001b[43m)\u001b[49m\n\u001b[0;32m    666\u001b[0m \u001b[38;5;28;01mif\u001b[39;00m sample_weight \u001b[38;5;129;01mis\u001b[39;00m \u001b[38;5;129;01mnot\u001b[39;00m \u001b[38;5;28;01mNone\u001b[39;00m:\n\u001b[0;32m    667\u001b[0m     sample_weight \u001b[38;5;241m=\u001b[39m _check_sample_weight(sample_weight, X, dtype\u001b[38;5;241m=\u001b[39mX\u001b[38;5;241m.\u001b[39mdtype)\n",
      "File \u001b[1;32m~\\anaconda3\\lib\\site-packages\\sklearn\\base.py:581\u001b[0m, in \u001b[0;36mBaseEstimator._validate_data\u001b[1;34m(self, X, y, reset, validate_separately, **check_params)\u001b[0m\n\u001b[0;32m    579\u001b[0m         y \u001b[38;5;241m=\u001b[39m check_array(y, \u001b[38;5;241m*\u001b[39m\u001b[38;5;241m*\u001b[39mcheck_y_params)\n\u001b[0;32m    580\u001b[0m     \u001b[38;5;28;01melse\u001b[39;00m:\n\u001b[1;32m--> 581\u001b[0m         X, y \u001b[38;5;241m=\u001b[39m check_X_y(X, y, \u001b[38;5;241m*\u001b[39m\u001b[38;5;241m*\u001b[39mcheck_params)\n\u001b[0;32m    582\u001b[0m     out \u001b[38;5;241m=\u001b[39m X, y\n\u001b[0;32m    584\u001b[0m \u001b[38;5;28;01mif\u001b[39;00m \u001b[38;5;129;01mnot\u001b[39;00m no_val_X \u001b[38;5;129;01mand\u001b[39;00m check_params\u001b[38;5;241m.\u001b[39mget(\u001b[38;5;124m\"\u001b[39m\u001b[38;5;124mensure_2d\u001b[39m\u001b[38;5;124m\"\u001b[39m, \u001b[38;5;28;01mTrue\u001b[39;00m):\n",
      "File \u001b[1;32m~\\anaconda3\\lib\\site-packages\\sklearn\\utils\\validation.py:964\u001b[0m, in \u001b[0;36mcheck_X_y\u001b[1;34m(X, y, accept_sparse, accept_large_sparse, dtype, order, copy, force_all_finite, ensure_2d, allow_nd, multi_output, ensure_min_samples, ensure_min_features, y_numeric, estimator)\u001b[0m\n\u001b[0;32m    961\u001b[0m \u001b[38;5;28;01mif\u001b[39;00m y \u001b[38;5;129;01mis\u001b[39;00m \u001b[38;5;28;01mNone\u001b[39;00m:\n\u001b[0;32m    962\u001b[0m     \u001b[38;5;28;01mraise\u001b[39;00m \u001b[38;5;167;01mValueError\u001b[39;00m(\u001b[38;5;124m\"\u001b[39m\u001b[38;5;124my cannot be None\u001b[39m\u001b[38;5;124m\"\u001b[39m)\n\u001b[1;32m--> 964\u001b[0m X \u001b[38;5;241m=\u001b[39m \u001b[43mcheck_array\u001b[49m\u001b[43m(\u001b[49m\n\u001b[0;32m    965\u001b[0m \u001b[43m    \u001b[49m\u001b[43mX\u001b[49m\u001b[43m,\u001b[49m\n\u001b[0;32m    966\u001b[0m \u001b[43m    \u001b[49m\u001b[43maccept_sparse\u001b[49m\u001b[38;5;241;43m=\u001b[39;49m\u001b[43maccept_sparse\u001b[49m\u001b[43m,\u001b[49m\n\u001b[0;32m    967\u001b[0m \u001b[43m    \u001b[49m\u001b[43maccept_large_sparse\u001b[49m\u001b[38;5;241;43m=\u001b[39;49m\u001b[43maccept_large_sparse\u001b[49m\u001b[43m,\u001b[49m\n\u001b[0;32m    968\u001b[0m \u001b[43m    \u001b[49m\u001b[43mdtype\u001b[49m\u001b[38;5;241;43m=\u001b[39;49m\u001b[43mdtype\u001b[49m\u001b[43m,\u001b[49m\n\u001b[0;32m    969\u001b[0m \u001b[43m    \u001b[49m\u001b[43morder\u001b[49m\u001b[38;5;241;43m=\u001b[39;49m\u001b[43morder\u001b[49m\u001b[43m,\u001b[49m\n\u001b[0;32m    970\u001b[0m \u001b[43m    \u001b[49m\u001b[43mcopy\u001b[49m\u001b[38;5;241;43m=\u001b[39;49m\u001b[43mcopy\u001b[49m\u001b[43m,\u001b[49m\n\u001b[0;32m    971\u001b[0m \u001b[43m    \u001b[49m\u001b[43mforce_all_finite\u001b[49m\u001b[38;5;241;43m=\u001b[39;49m\u001b[43mforce_all_finite\u001b[49m\u001b[43m,\u001b[49m\n\u001b[0;32m    972\u001b[0m \u001b[43m    \u001b[49m\u001b[43mensure_2d\u001b[49m\u001b[38;5;241;43m=\u001b[39;49m\u001b[43mensure_2d\u001b[49m\u001b[43m,\u001b[49m\n\u001b[0;32m    973\u001b[0m \u001b[43m    \u001b[49m\u001b[43mallow_nd\u001b[49m\u001b[38;5;241;43m=\u001b[39;49m\u001b[43mallow_nd\u001b[49m\u001b[43m,\u001b[49m\n\u001b[0;32m    974\u001b[0m \u001b[43m    \u001b[49m\u001b[43mensure_min_samples\u001b[49m\u001b[38;5;241;43m=\u001b[39;49m\u001b[43mensure_min_samples\u001b[49m\u001b[43m,\u001b[49m\n\u001b[0;32m    975\u001b[0m \u001b[43m    \u001b[49m\u001b[43mensure_min_features\u001b[49m\u001b[38;5;241;43m=\u001b[39;49m\u001b[43mensure_min_features\u001b[49m\u001b[43m,\u001b[49m\n\u001b[0;32m    976\u001b[0m \u001b[43m    \u001b[49m\u001b[43mestimator\u001b[49m\u001b[38;5;241;43m=\u001b[39;49m\u001b[43mestimator\u001b[49m\u001b[43m,\u001b[49m\n\u001b[0;32m    977\u001b[0m \u001b[43m\u001b[49m\u001b[43m)\u001b[49m\n\u001b[0;32m    979\u001b[0m y \u001b[38;5;241m=\u001b[39m _check_y(y, multi_output\u001b[38;5;241m=\u001b[39mmulti_output, y_numeric\u001b[38;5;241m=\u001b[39my_numeric)\n\u001b[0;32m    981\u001b[0m check_consistent_length(X, y)\n",
      "File \u001b[1;32m~\\anaconda3\\lib\\site-packages\\sklearn\\utils\\validation.py:805\u001b[0m, in \u001b[0;36mcheck_array\u001b[1;34m(array, accept_sparse, accept_large_sparse, dtype, order, copy, force_all_finite, ensure_2d, allow_nd, ensure_min_samples, ensure_min_features, estimator)\u001b[0m\n\u001b[0;32m    803\u001b[0m     n_samples \u001b[38;5;241m=\u001b[39m _num_samples(array)\n\u001b[0;32m    804\u001b[0m     \u001b[38;5;28;01mif\u001b[39;00m n_samples \u001b[38;5;241m<\u001b[39m ensure_min_samples:\n\u001b[1;32m--> 805\u001b[0m         \u001b[38;5;28;01mraise\u001b[39;00m \u001b[38;5;167;01mValueError\u001b[39;00m(\n\u001b[0;32m    806\u001b[0m             \u001b[38;5;124m\"\u001b[39m\u001b[38;5;124mFound array with \u001b[39m\u001b[38;5;132;01m%d\u001b[39;00m\u001b[38;5;124m sample(s) (shape=\u001b[39m\u001b[38;5;132;01m%s\u001b[39;00m\u001b[38;5;124m) while a\u001b[39m\u001b[38;5;124m\"\u001b[39m\n\u001b[0;32m    807\u001b[0m             \u001b[38;5;124m\"\u001b[39m\u001b[38;5;124m minimum of \u001b[39m\u001b[38;5;132;01m%d\u001b[39;00m\u001b[38;5;124m is required\u001b[39m\u001b[38;5;132;01m%s\u001b[39;00m\u001b[38;5;124m.\u001b[39m\u001b[38;5;124m\"\u001b[39m\n\u001b[0;32m    808\u001b[0m             \u001b[38;5;241m%\u001b[39m (n_samples, array\u001b[38;5;241m.\u001b[39mshape, ensure_min_samples, context)\n\u001b[0;32m    809\u001b[0m         )\n\u001b[0;32m    811\u001b[0m \u001b[38;5;28;01mif\u001b[39;00m ensure_min_features \u001b[38;5;241m>\u001b[39m \u001b[38;5;241m0\u001b[39m \u001b[38;5;129;01mand\u001b[39;00m array\u001b[38;5;241m.\u001b[39mndim \u001b[38;5;241m==\u001b[39m \u001b[38;5;241m2\u001b[39m:\n\u001b[0;32m    812\u001b[0m     n_features \u001b[38;5;241m=\u001b[39m array\u001b[38;5;241m.\u001b[39mshape[\u001b[38;5;241m1\u001b[39m]\n",
      "\u001b[1;31mValueError\u001b[0m: Found array with 0 sample(s) (shape=(0, 1)) while a minimum of 1 is required."
     ]
    }
   ],
   "source": [
    "x = x.reshape(-1,1)\n",
    "linreg.fit(x,y)"
   ]
  },
  {
   "cell_type": "code",
   "execution_count": null,
   "id": "62ac49d7",
   "metadata": {},
   "outputs": [],
   "source": [
    "y_pred  = linreg.predict(x)"
   ]
  },
  {
   "cell_type": "code",
   "execution_count": null,
   "id": "0d7efc8e",
   "metadata": {},
   "outputs": [],
   "source": [
    "plt.show(x,y)\n",
    "plt.plot(x, y_pred, color = 'red')\n",
    "plt.show()"
   ]
  },
  {
   "cell_type": "code",
   "execution_count": null,
   "id": "60d0d42a",
   "metadata": {},
   "outputs": [],
   "source": [
    "print(linreg.coef_)"
   ]
  },
  {
   "cell_type": "code",
   "execution_count": null,
   "id": "faace356",
   "metadata": {},
   "outputs": [],
   "source": [
    "print(linreg.intercept_)"
   ]
  },
  {
   "cell_type": "code",
   "execution_count": null,
   "id": "2cf5fa5d",
   "metadata": {},
   "outputs": [],
   "source": []
  },
  {
   "cell_type": "code",
   "execution_count": 6,
   "id": "3ac56527",
   "metadata": {},
   "outputs": [
    {
     "ename": "ModuleNotFoundError",
     "evalue": "No module named 'warmings'",
     "output_type": "error",
     "traceback": [
      "\u001b[1;31m---------------------------------------------------------------------------\u001b[0m",
      "\u001b[1;31mModuleNotFoundError\u001b[0m                       Traceback (most recent call last)",
      "Input \u001b[1;32mIn [6]\u001b[0m, in \u001b[0;36m<cell line: 9>\u001b[1;34m()\u001b[0m\n\u001b[0;32m      7\u001b[0m get_ipython()\u001b[38;5;241m.\u001b[39mrun_line_magic(\u001b[38;5;124m'\u001b[39m\u001b[38;5;124mmatplotlib\u001b[39m\u001b[38;5;124m'\u001b[39m, \u001b[38;5;124m'\u001b[39m\u001b[38;5;124minline\u001b[39m\u001b[38;5;124m'\u001b[39m)\n\u001b[0;32m      8\u001b[0m plt\u001b[38;5;241m.\u001b[39mstyle\u001b[38;5;241m.\u001b[39muse(\u001b[38;5;124m'\u001b[39m\u001b[38;5;124mggplot\u001b[39m\u001b[38;5;124m'\u001b[39m)\n\u001b[1;32m----> 9\u001b[0m \u001b[38;5;28;01mimport\u001b[39;00m \u001b[38;5;21;01mwarmings\u001b[39;00m\n\u001b[0;32m     10\u001b[0m warnings\u001b[38;5;241m.\u001b[39mfilterwarnings(\u001b[38;5;124m'\u001b[39m\u001b[38;5;124mignore\u001b[39m\u001b[38;5;124m'\u001b[39m)\n",
      "\u001b[1;31mModuleNotFoundError\u001b[0m: No module named 'warmings'"
     ]
    }
   ],
   "source": [
    "import numpy as np\n",
    "import pandas as pd\n",
    "import matplotlib.pyplot as plt\n",
    "import seaborn as sns\n",
    "import mpl_toolkits\n",
    "from sklearn import linear_model\n",
    "%matplotlib inline\n",
    "plt.style.use('ggplot')\n",
    "import warmings\n",
    "warnings.filterwarnings('ignore')"
   ]
  },
  {
   "cell_type": "code",
   "execution_count": null,
   "id": "9197c9ea",
   "metadata": {},
   "outputs": [],
   "source": [
    "df = pd.read_excel('linear regression data .xlsx')\n",
    "df"
   ]
  },
  {
   "cell_type": "code",
   "execution_count": null,
   "id": "da77bdbb",
   "metadata": {},
   "outputs": [],
   "source": [
    "sns.heatmap(df.corr(), cmap = 'YlGnBu', annot  = True)\n",
    "plt.show()"
   ]
  },
  {
   "cell_type": "code",
   "execution_count": null,
   "id": "959ec3d4",
   "metadata": {},
   "outputs": [],
   "source": [
    "plt.figure(figsize=(12,6))\n",
    "plt.scatter(df['X-axis'],df['Y-axis'],color='red')\n",
    "plt.title(\"title 1\",fontsize=14)\n",
    "plt.xlabel('Title 2',fontsize=14)\n",
    "plt.ylable('Title 1', fontsize=14)\n",
    "plt.grid(True)\n",
    "plt.show()"
   ]
  },
  {
   "cell_type": "code",
   "execution_count": null,
   "id": "6fcc7a0a",
   "metadata": {},
   "outputs": [],
   "source": [
    "n_df = df.drop('tile ',axis = 'columns')\n",
    "n_df"
   ]
  },
  {
   "cell_type": "code",
   "execution_count": null,
   "id": "32c70e42",
   "metadata": {},
   "outputs": [],
   "source": [
    "si = df['Title']\n",
    "si"
   ]
  },
  {
   "cell_type": "code",
   "execution_count": null,
   "id": "7a48df2f",
   "metadata": {},
   "outputs": [],
   "source": [
    "# creating Linear regression object\n",
    "lr = linear_model.LinearReegression()\n",
    "lr.fit(n_df,si)"
   ]
  },
  {
   "cell_type": "code",
   "execution_count": null,
   "id": "0f1f342f",
   "metadata": {},
   "outputs": [],
   "source": [
    "# Let predict si for a given budget amount\n",
    "lr.predict([[150]])"
   ]
  },
  {
   "cell_type": "code",
   "execution_count": null,
   "id": "f6d731a0",
   "metadata": {},
   "outputs": [],
   "source": [
    "y_predict = lr.fit(n_df)"
   ]
  },
  {
   "cell_type": "code",
   "execution_count": null,
   "id": "7d6ae625",
   "metadata": {},
   "outputs": [],
   "source": [
    "# Visual the predict amount as a line on the test set\n",
    "# The scatter plot with best-fit inline looks like\n",
    "plt.figure(figsize=12,6)\n",
    "plt.scatter(df['ascsac'],df['ada'])\n",
    "plt.plot(df['mad'],y_predict,'r')\n",
    "plt.show()"
   ]
  },
  {
   "cell_type": "code",
   "execution_count": null,
   "id": "28d5739b",
   "metadata": {},
   "outputs": [],
   "source": [
    "# Concerate a file with list of sales predictions\n",
    "# Intercept value\n",
    "print(\"Innd\", lr.intercept_)\n",
    "\n",
    "# SLope value\n",
    "print('slope',lr.coef_)"
   ]
  },
  {
   "cell_type": "code",
   "execution_count": null,
   "id": "8a0085b7",
   "metadata": {},
   "outputs": [],
   "source": [
    "plt.figure(figsize=(12,6))\n",
    "plt.scatter(df['ff'],df[\"csc\"])\n",
    "plt.show(df['fa'],0.05276*df['caa']+3.352,'r')\n",
    "plt.show()"
   ]
  },
  {
   "cell_type": "code",
   "execution_count": null,
   "id": "f0faa0f8",
   "metadata": {},
   "outputs": [],
   "source": [
    "plt.fig(figsize=(12,6))\n",
    "x_as = range(len(df['aad']))\n",
    "plt.plot(x_ax,y_predict, label = 'vwc')\n",
    "plt.title('fwcsc')\n",
    "plt.legend()\n",
    "plt.show()"
   ]
  },
  {
   "cell_type": "code",
   "execution_count": null,
   "id": "c3ea6ce6",
   "metadata": {},
   "outputs": [],
   "source": [
    "sd = lr.predict(df)\n",
    "sd"
   ]
  },
  {
   "cell_type": "code",
   "execution_count": null,
   "id": "325629fa",
   "metadata": {},
   "outputs": [],
   "source": [
    "df['partcular sales'] = ps\n",
    "df"
   ]
  },
  {
   "cell_type": "code",
   "execution_count": null,
   "id": "4c17c823",
   "metadata": {},
   "outputs": [],
   "source": [
    "df.to_csv(\"Forecasted_sales.csv\")"
   ]
  }
 ],
 "metadata": {
  "kernelspec": {
   "display_name": "Python 3 (ipykernel)",
   "language": "python",
   "name": "python3"
  },
  "language_info": {
   "codemirror_mode": {
    "name": "ipython",
    "version": 3
   },
   "file_extension": ".py",
   "mimetype": "text/x-python",
   "name": "python",
   "nbconvert_exporter": "python",
   "pygments_lexer": "ipython3",
   "version": "3.9.12"
  }
 },
 "nbformat": 4,
 "nbformat_minor": 5
}
